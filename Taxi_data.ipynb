{
 "cells": [
  {
   "cell_type": "markdown",
   "metadata": {},
   "source": [
    "<font color=purple>\n",
    "    \n",
    "Please note you need to run in the datalab enviroment in GCP, not locally.\n",
    "\n",
    "Bring in your libraries"
   ]
  },
  {
   "cell_type": "code",
   "execution_count": null,
   "metadata": {},
   "outputs": [],
   "source": [
    "import google.datalab.bigquery as bq\n",
    "import matplotlib.pyplot as plt\n",
    "import seaborn as sns\n",
    "\n",
    "import pandas as pd\n",
    "import numpy as np\n",
    "import shutil"
   ]
  },
  {
   "cell_type": "markdown",
   "metadata": {},
   "source": [
    "<font color=purple>\n",
    "    \n",
    "# Extract data from BigQuery \n",
    "\n",
    "There are several public big data sets available from google <a href=\"https://bigquery.cloud.google.com/publicdatasets/\"> here.</a> \n",
    "\n",
    "The dataset that we will use is <a href=\"https://bigquery.cloud.google.com/table/nyc-tlc:yellow.trips\"> the yellow taxi cabs of New York</a>. \n",
    "\n",
    "Write a SQL query to pick up the following fields\n",
    "  * pickup_datetime,\n",
    "  * pickup_longitude, pickup_latitude, \n",
    "  * dropoff_longitude, dropoff_latitude,\n",
    "  * passenger_count,\n",
    "  * trip_distance,\n",
    "  * tolls_amount,\n",
    "  * fare_amount,\n",
    "  * total_amount\n",
    "\n",
    "from the dataset and explore a small part of the data. \n",
    "\n",
    "We want a repeatable subset of the data so that if someone reruns this notebook, they will get the same results."
   ]
  },
  {
   "cell_type": "code",
   "execution_count": null,
   "metadata": {},
   "outputs": [],
   "source": [
    "rawdata = \"\"\"\n",
    "SELECT\n",
    "  pickup_datetime,\n",
    "  pickup_longitude, pickup_latitude, \n",
    "  dropoff_longitude, dropoff_latitude,\n",
    "  passenger_count,\n",
    "  trip_distance,\n",
    "  tolls_amount,\n",
    "  fare_amount,\n",
    "  total_amount\n",
    "FROM\n",
    "  `nyc-tlc.yellow.trips`\n",
    "WHERE\n",
    "  MOD(ABS(FARM_FINGERPRINT(CAST(pickup_datetime AS STRING))),EVERY_N) = 1\n",
    "\"\"\""
   ]
  },
  {
   "cell_type": "code",
   "execution_count": null,
   "metadata": {},
   "outputs": [],
   "source": [
    "query = rawdata.replace(\"EVERY_N\", \"1000\")\n",
    "print(query)\n",
    "trips = bq.Query(query).execute().result().to_dataframe()\n",
    "print(\"Total dataset is {} taxi rides\".format(len(trips)))\n",
    "trips[:10]"
   ]
  },
  {
   "cell_type": "markdown",
   "metadata": {},
   "source": [
    "<font color=purple>\n",
    "    \n",
    "# Run a describe on the test data. Does this make ‘sense’ ?\n",
    "\n",
    "* Can a Passenger count be < 1?\n",
    "* Can fare amount be less than 0?\n",
    "* If all of the taxi rides are in New York (40.7128° N, 74.0060° W),\n",
    "    * what are good bounds on the longitude and latitude? \n",
    "        * (+/- 2°, +/- 5°, +/- 10°, +/- 100°?? )\n",
    "\n",
    "This is added to your bigquery, after the where statment, and is re-run below:\n",
    "\n",
    "AND passenger_count >= 1 \n",
    "AND trip_distance > 0\n",
    "AND fare_amount > 0\n",
    "AND total_amount > 0\n",
    "AND pickup_longitude < -72 AND pickup_longitude > -76\n",
    "AND pickup_latitude > 38 AND pickup_latitude < 42\n",
    "AND dropoff_longitude < -72 AND dropoff_longitude > -76\n",
    "AND dropoff_latitude > 38 AND dropoff_latitude < 42"
   ]
  },
  {
   "cell_type": "code",
   "execution_count": null,
   "metadata": {},
   "outputs": [],
   "source": [
    "trips.describe()"
   ]
  },
  {
   "cell_type": "code",
   "execution_count": null,
   "metadata": {},
   "outputs": [],
   "source": [
    "plt.scatter(x = trips[\"trip_distance\"], y = trips[\"fare_amount\"])\n",
    "plt.title('Taxi Trips')\n",
    "plt.xlabel(\"Trip Distance\")\n",
    "plt.ylabel(\"Fare Amount\")\n",
    "plt.show()"
   ]
  },
  {
   "cell_type": "code",
   "execution_count": null,
   "metadata": {},
   "outputs": [],
   "source": [
    "## the pick-ups\n",
    "sns.lmplot(x='pickup_longitude', \n",
    "           y='pickup_latitude', \n",
    "           fit_reg=False, \n",
    "           data=trips);\n",
    "## the drop offs\n",
    "sns.lmplot(x='dropoff_longitude', \n",
    "           y='dropoff_latitude', \n",
    "           fit_reg=False, \n",
    "           data=trips);"
   ]
  },
  {
   "cell_type": "code",
   "execution_count": null,
   "metadata": {},
   "outputs": [],
   "source": [
    "rawdata = \"\"\"\n",
    "SELECT\n",
    "  pickup_datetime,\n",
    "  pickup_longitude, pickup_latitude, \n",
    "  dropoff_longitude, dropoff_latitude,\n",
    "  passenger_count,\n",
    "  trip_distance,\n",
    "  tolls_amount,\n",
    "  fare_amount,\n",
    "  total_amount\n",
    "FROM\n",
    "  `nyc-tlc.yellow.trips`\n",
    "WHERE\n",
    "  MOD(ABS(FARM_FINGERPRINT(CAST(pickup_datetime AS STRING))),EVERY_N) = 1\n",
    "  AND passenger_count >= 1 AND trip_distance > 0 \n",
    "  AND fare_amount > 0 AND total_amount > 0 \n",
    "  AND pickup_longitude < -72 AND pickup_longitude > -76 \n",
    "  AND pickup_latitude > 38 AND pickup_latitude < 42\n",
    "  AND dropoff_longitude < -72 AND dropoff_longitude > -76 \n",
    "  AND dropoff_latitude > 38 AND dropoff_latitude < 42\n",
    "\"\"\""
   ]
  },
  {
   "cell_type": "code",
   "execution_count": null,
   "metadata": {},
   "outputs": [],
   "source": [
    "query = rawdata.replace(\"EVERY_N\", \"100000\")\n",
    "print(query)\n",
    "trips = bq.Query(query).execute().result().to_dataframe()\n",
    "print(\"Total dataset is {} taxi rides\".format(len(trips)))\n",
    "trips.describe()"
   ]
  },
  {
   "cell_type": "code",
   "execution_count": null,
   "metadata": {},
   "outputs": [],
   "source": [
    "plt.scatter(x = trips[\"trip_distance\"], y = trips[\"fare_amount\"])\n",
    "plt.title('Taxi Trips')\n",
    "plt.xlabel(\"Trip Distance\")\n",
    "plt.ylabel(\"Fare Amount\")\n",
    "plt.show()"
   ]
  },
  {
   "cell_type": "code",
   "execution_count": null,
   "metadata": {},
   "outputs": [],
   "source": [
    "## the pick-ups\n",
    "sns.lmplot(x='pickup_longitude', \n",
    "           y='pickup_latitude', \n",
    "           fit_reg=False, \n",
    "           data=trips);\n",
    "## the drop offs\n",
    "sns.lmplot(x='dropoff_longitude', \n",
    "           y='dropoff_latitude', \n",
    "           fit_reg=False, \n",
    "           data=trips);"
   ]
  },
  {
   "cell_type": "markdown",
   "metadata": {},
   "source": [
    "<font color=purple>\n",
    "    \n",
    "# Next steps\n",
    "\n",
    "* Partition the data into Test, Train and Validate\n",
    "* Explore feature engineering, and feature crossing\n",
    "* Try models - what variables do we want to predict?"
   ]
  },
  {
   "cell_type": "code",
   "execution_count": null,
   "metadata": {},
   "outputs": [],
   "source": []
  }
 ],
 "metadata": {
  "kernelspec": {
   "display_name": "Python 3",
   "language": "python",
   "name": "python3"
  },
  "language_info": {
   "codemirror_mode": {
    "name": "ipython",
    "version": 3
   },
   "file_extension": ".py",
   "mimetype": "text/x-python",
   "name": "python",
   "nbconvert_exporter": "python",
   "pygments_lexer": "ipython3",
   "version": "3.7.2"
  }
 },
 "nbformat": 4,
 "nbformat_minor": 2
}
